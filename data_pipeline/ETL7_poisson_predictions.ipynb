{
 "cells": [
  {
   "cell_type": "code",
   "execution_count": null,
   "metadata": {},
   "outputs": [],
   "source": [
    "import pandas as pd\n",
    "import MasterPoisson \n",
    "from config import prediction_lookahead_days, number_of_predictions"
   ]
  },
  {
   "cell_type": "code",
   "execution_count": null,
   "metadata": {},
   "outputs": [],
   "source": [
    "web_df = pd.read_json(\"./processed_data/5_web_ready_data.json\")\n",
    "master = pd.read_parquet(\"./processed_data/3_categorical_master.parquet\")"
   ]
  },
  {
   "cell_type": "code",
   "execution_count": null,
   "metadata": {},
   "outputs": [],
   "source": [
    "def get_predictions(id_cliente: str, num_predictions: int) -> list:\n",
    "    variablesPrediccion = \"\"\"y ~ DAY + DAY_OF_WEEK + MONTH\"\"\"\n",
    "    prediction_df = MasterPoisson.PredictionDays(ID_bar=id_cliente, n_dias=prediction_lookahead_days, dataset=master,predictionVars=variablesPrediccion)\n",
    "    return list(prediction_df[\"fecha_prediccion\"].head(num_predictions))"
   ]
  },
  {
   "cell_type": "markdown",
   "metadata": {},
   "source": [
    "Ara per a cada bar aconseguirem les dates de les seguents prediccions"
   ]
  },
  {
   "cell_type": "code",
   "execution_count": null,
   "metadata": {},
   "outputs": [],
   "source": [
    "web_df[\"fecha_prediccion\"] = web_df[\"id_cliente\"].apply(lambda row: get_predictions(row, number_of_predictions))"
   ]
  },
  {
   "cell_type": "code",
   "execution_count": null,
   "metadata": {},
   "outputs": [],
   "source": [
    "web_df[\"promedio_litros_pedidos\"] = web_df[\"litros_pedidos_cliente\"].apply(lambda x: sum(x)/len(x))\n",
    "web_df[\"promedio_litros_dados\"] = web_df[\"litros_dados_cliente\"].apply(lambda x: sum(x)/len(x))"
   ]
  },
  {
   "cell_type": "code",
   "execution_count": null,
   "metadata": {},
   "outputs": [],
   "source": [
    "web_df[\"fecha_prediccion\"][0]"
   ]
  },
  {
   "cell_type": "code",
   "execution_count": null,
   "metadata": {},
   "outputs": [],
   "source": [
    "web_df.to_json(\"./processed_data/7_final_web_data.json\", orient=\"records\", indent=2, date_format=\"iso\")"
   ]
  }
 ],
 "metadata": {
  "kernelspec": {
   "display_name": "Python 3",
   "language": "python",
   "name": "python3"
  },
  "language_info": {
   "codemirror_mode": {
    "name": "ipython",
    "version": 3
   },
   "file_extension": ".py",
   "mimetype": "text/x-python",
   "name": "python",
   "nbconvert_exporter": "python",
   "pygments_lexer": "ipython3",
   "version": "3.8.0"
  }
 },
 "nbformat": 4,
 "nbformat_minor": 2
}
