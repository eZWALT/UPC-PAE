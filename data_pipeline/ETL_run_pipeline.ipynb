{
 "cells": [
  {
   "cell_type": "markdown",
   "metadata": {},
   "source": [
    "## Automation of ETL"
   ]
  },
  {
   "cell_type": "code",
   "execution_count": null,
   "metadata": {},
   "outputs": [],
   "source": [
    "%run ./ETL1_raw_master.ipynb\n",
    "%run ./ETL2_analyze_raw_master.ipynb\n",
    "%run ./ETL3_categorical_translation_and_events.ipynb\n",
    "%run ./ETL4_dates_and_events.ipynb\n",
    "%run ./ETL5_build_historical_and_barinfo.ipynb\n",
    "%run ./ETL6_poisson_model.ipynb\n",
    "%run ./ETL7_poisson_predictions.ipynb"
   ]
  }
 ],
 "metadata": {
  "kernelspec": {
   "display_name": "base",
   "language": "python",
   "name": "python3"
  },
  "language_info": {
   "codemirror_mode": {
    "name": "ipython",
    "version": 3
   },
   "file_extension": ".py",
   "mimetype": "text/x-python",
   "name": "python",
   "nbconvert_exporter": "python",
   "pygments_lexer": "ipython3",
   "version": "3.8.0"
  },
  "orig_nbformat": 4
 },
 "nbformat": 4,
 "nbformat_minor": 2
}
