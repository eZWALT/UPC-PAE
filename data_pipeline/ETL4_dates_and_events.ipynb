{
 "cells": [
  {
   "cell_type": "code",
   "execution_count": null,
   "metadata": {},
   "outputs": [],
   "source": [
    "import pandas as pd     \n",
    "import numpy as np \n",
    "from tabulate import tabulate\n",
    "from sportsipy.fb.schedule import Schedule\n",
    "import holidays\n",
    "from datetime import datetime, timedelta\n",
    "import requests\n"
   ]
  },
  {
   "cell_type": "code",
   "execution_count": null,
   "metadata": {},
   "outputs": [],
   "source": [
    "master = pd.read_parquet(\"./processed_data/3_categorical_master.parquet\")\n",
    "print(tabulate(master, headers=\"keys\", tablefmt=\"psql\"))\n"
   ]
  },
  {
   "cell_type": "markdown",
   "metadata": {},
   "source": [
    "## Variables TimeSeries\n",
    "Com es tracta d'un problema que involucra temporalitats, caldria dotar al set de dades de \"lag features\" i estadístiques de mitjanes que ajudin a establir relacions. Primer ordenarem, crearem 3 lag features i despres treurem tots els nulls que s'hagin generat en el procés"
   ]
  },
  {
   "cell_type": "code",
   "execution_count": null,
   "metadata": {},
   "outputs": [],
   "source": [
    "#sort values\n",
    "master.sort_values(by=[\"id_cliente\", \"fecha_pedido\"], inplace=True)\n",
    "\n",
    "master[\"fecha_pedido\"] = pd.to_datetime(master[\"fecha_pedido\"], format='%d.%m.%Y')\n",
    "\n",
    "FECHA_INICIAL = master[\"fecha_pedido\"].min() \n",
    "print(FECHA_INICIAL)\n",
    "\n",
    "#3 lagged variables\n",
    "bar_grouped = master.groupby(\"id_cliente\")\n",
    "master[\"fecha_ultimo_refill_1\"] = bar_grouped[\"fecha_pedido\"].shift(1)\n",
    "master[\"fecha_ultimo_refill_2\"] = bar_grouped[\"fecha_pedido\"].shift(2)\n",
    "master[\"fecha_ultimo_refill_3\"] = bar_grouped[\"fecha_pedido\"].shift(3)\n",
    "\n",
    "#3 average variables\n",
    "#THIS MUST BE DONE AFTER DATE PROCESSING\n",
    "\n",
    "master.dropna(inplace=True)\n",
    "\n",
    "\n",
    "\n"
   ]
  },
  {
   "cell_type": "markdown",
   "metadata": {},
   "source": [
    "## Dates & Timestamps\n",
    "Les dates i timestamps són strings que dificilment el model (sobretot si es tracten d'arbres de decisió o xarxes neuronals) identificara correctament, caldria dividir en dies de la setmana, setmanes iso, anys per exemple. Per els timestamps guardarem l'hora i el minut ?"
   ]
  },
  {
   "cell_type": "code",
   "execution_count": null,
   "metadata": {},
   "outputs": [],
   "source": [
    "date_columns = [\"fecha_caducidad\", \"fecha_descarga\", \"fecha_pedido\", \"fecha_ultimo_refill_1\", \"fecha_ultimo_refill_2\", \"fecha_ultimo_refill_3\"]\n",
    "date_names = [\"caducidad\", \"descarga\", \"pedido\", \"ultimo_refill_1\", \"ultimo_refill_2\", \"ultimo_refill_3\"]\n",
    "\n",
    "for date, name in zip(date_columns, date_names):\n",
    "    master[date] = pd.to_datetime(master[date], format='%d.%m.%Y')\n",
    "    master[f\"fecha_{name}_discreta\"] = (master[date] - FECHA_INICIAL).dt.days.astype(int)\n",
    "\n",
    "print(tabulate(master, headers=\"keys\", tablefmt=\"psql\"))\n",
    "    "
   ]
  },
  {
   "cell_type": "code",
   "execution_count": null,
   "metadata": {},
   "outputs": [],
   "source": [
    "master.columns"
   ]
  },
  {
   "cell_type": "markdown",
   "metadata": {},
   "source": [
    "A mode de resum, ara la nostre taula mestra conté informació de:\n",
    "\n",
    "- proveidors i subproveidors\n",
    "- clients\n",
    "- vehicle que transporta\n",
    "- centres de carrega de cervesa\n",
    "- tipus de cervesa \n",
    "- dates de quan es va demanar/quan va arribar /quan caduca la comanda servida i les dates sequencials (a partir del primer ticket)\n",
    "- litres demanats pel client i litres servits\n",
    "- timestamps de quan s'inicia i acaba la descarrega\n",
    "- temperatura i pressio dels tancs\n",
    "- informacio logistica (id_albaran, id_lote_producto, id_orden_entrega)\n",
    "\n",
    "Podriem enriquir encara més la taula posant informació de grans festivals, mundials de futbol, altres lligues rellevants d'altres esports i demñes"
   ]
  },
  {
   "cell_type": "code",
   "execution_count": null,
   "metadata": {},
   "outputs": [],
   "source": [
    "master.to_parquet(\"./processed_data/4_timeserie_master.parquet\", index=True)"
   ]
  }
 ],
 "metadata": {
  "kernelspec": {
   "display_name": "base",
   "language": "python",
   "name": "python3"
  },
  "language_info": {
   "codemirror_mode": {
    "name": "ipython",
    "version": 3
   },
   "file_extension": ".py",
   "mimetype": "text/x-python",
   "name": "python",
   "nbconvert_exporter": "python",
   "pygments_lexer": "ipython3",
   "version": "3.11.4"
  },
  "orig_nbformat": 4
 },
 "nbformat": 4,
 "nbformat_minor": 2
}
