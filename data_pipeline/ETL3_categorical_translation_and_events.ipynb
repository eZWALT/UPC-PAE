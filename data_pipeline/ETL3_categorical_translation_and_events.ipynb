{
 "cells": [
  {
   "cell_type": "code",
   "execution_count": null,
   "metadata": {},
   "outputs": [],
   "source": [
    "import pandas as pd     \n",
    "import numpy as np \n",
    "from tabulate import tabulate\n",
    "import holidays \n",
    "from sportsipy.fb.schedule import Schedule\n"
   ]
  },
  {
   "cell_type": "code",
   "execution_count": null,
   "metadata": {},
   "outputs": [],
   "source": [
    "master = pd.read_parquet(\"./processed_data/2_non_null_master.parquet\")\n",
    "print(tabulate(master, headers=\"keys\", tablefmt=\"psql\"))\n"
   ]
  },
  {
   "cell_type": "markdown",
   "metadata": {},
   "source": [
    "# Translation Tables & Handling string values\n",
    "En aquest petit apartat generarem taules de traduccio de enumeracions (Haurem també de crear aquestes enumeracions, per tal de guardar espai a les dades i  també per si en el futur volem que el model de machine learning les faci servir, no podrá si es tracta de strings). Primerament identificarem quines columnes d'strings mereixen ser tractades: \n",
    "\n",
    "- centro_carga\n",
    "- id_cerveza & desc_cerveza\n",
    "- id_cliente & desc_cliente\n",
    "- id_vehiculo\n",
    "- id_proveedor, id_fiscal_proveedor & desc_proveedor\n",
    "\n",
    "En la taula mestra, encomptes de deixar els camps rellevants en forma de enumeració, farem us dels valors categòrics de Pandas."
   ]
  },
  {
   "cell_type": "code",
   "execution_count": null,
   "metadata": {},
   "outputs": [],
   "source": [
    "#Get the translation dataframe\n",
    "enum, centro_carga_categories = pd.factorize(master[\"centro_carga\"])\n",
    "centro_carga_df = pd.DataFrame({\"centro_carga\": centro_carga_categories, \"centro_carga_enumeration\": range(len(centro_carga_categories))})\n",
    "\n",
    "#update the master \n",
    "master[\"centro_carga\"] = master[\"centro_carga\"].astype(\"category\")\n"
   ]
  },
  {
   "cell_type": "code",
   "execution_count": null,
   "metadata": {},
   "outputs": [],
   "source": [
    "enumeration, id_cerveza_categories = pd.factorize(master[\"id_cerveza\"])\n",
    "#a join is needed here\n",
    "conversion = master[[\"desc_cerveza\", \"id_cerveza\"]]\n",
    "cerveza_df = pd.DataFrame({\"desc_cerveza\": conversion[\"desc_cerveza\"].unique(), \"id_cerveza\": conversion[\"id_cerveza\"].unique(), \"cerveza_enumeration\": range(len(id_cerveza_categories)) })\n",
    "print(cerveza_df)\n",
    "\n",
    "master[[\"id_cerveza\", \"desc_cerveza\"]] = master[[\"id_cerveza\", \"desc_cerveza\"]].astype(\"category\")"
   ]
  },
  {
   "cell_type": "code",
   "execution_count": null,
   "metadata": {},
   "outputs": [],
   "source": [
    "enumeration, id_proveedor_categories = pd.factorize(master[\"id_proveedor\"])\n",
    "\n",
    "conversion = master[[\"id_proveedor\", \"id_fiscal_proveedor\", \"empresa_proveedor\"]]\n",
    "proveedor_df = pd.DataFrame({\"id_proveedor\": conversion[\"id_proveedor\"].unique(), \"id_fiscal_proveedor\": conversion[\"id_fiscal_proveedor\"].unique(), \"proveedor_enumeration\": range(len(id_proveedor_categories))})\n",
    "subproveedor_df = master[[\"id_proveedor\", \"empresa_proveedor\"]]\n",
    "subproveedor_df = subproveedor_df.drop_duplicates()\n",
    "subproveedor_df[\"empresa_proveedor_enumeration\"] = range(len(subproveedor_df[\"id_proveedor\"]))\n",
    "\n",
    "#convert these columns into categorical instead of string\n",
    "master[[\"id_proveedor\", \"id_fiscal_proveedor\", \"empresa_proveedor\"]] = master[[\"id_proveedor\", \"id_fiscal_proveedor\", \"empresa_proveedor\"]].astype(\"category\")\n",
    "print(proveedor_df)\n",
    "print(subproveedor_df)\n"
   ]
  },
  {
   "cell_type": "code",
   "execution_count": null,
   "metadata": {},
   "outputs": [],
   "source": [
    "conversion = master[[\"id_cliente\", \"desc_cliente\"]].drop_duplicates()\n",
    "conversion[\"cliente_enumeration\"] = range(len(conversion[\"id_cliente\"]))\n",
    "cliente_df = conversion\n",
    "print(cliente_df)\n",
    "\n",
    "master[[\"id_cliente\", \"desc_cliente\"]] = master[ [\"id_cliente\", \"desc_cliente\"] ].astype(\"category\")\n",
    "master[\"id_cliente_enum\"] = master[\"id_cliente\"].astype('category').cat.codes\n"
   ]
  },
  {
   "cell_type": "code",
   "execution_count": null,
   "metadata": {},
   "outputs": [],
   "source": [
    "vehiculo_df = pd.DataFrame(master[\"id_vehiculo\"].unique())\n",
    "vehiculo_df[\"vehiculo_enumeration\"] = range(len(master[\"id_vehiculo\"].unique()))\n",
    "\n",
    "print(vehiculo_df)\n",
    "master[\"id_vehiculo\"] = master[\"id_vehiculo\"].astype(\"category\")\n"
   ]
  },
  {
   "cell_type": "markdown",
   "metadata": {},
   "source": [
    "## Festividades & Partidos Liga"
   ]
  },
  {
   "cell_type": "code",
   "execution_count": null,
   "metadata": {},
   "outputs": [],
   "source": [
    "from config import years \n",
    "\n",
    "def get_spain_holidays(years):\n",
    "    spain_holidays = holidays.Spain(years=years)\n",
    "    holidays_data = [(pd.to_datetime(date), name) for date, name in sorted(spain_holidays.items())]\n",
    "\n",
    "    holidays_df = pd.DataFrame(holidays_data, columns=[\"fecha\", \"festividad\"])\n",
    "    return holidays_df\n",
    "\n",
    "\n",
    "festividades = get_spain_holidays(years)\n",
    "festividades.dtypes"
   ]
  },
  {
   "cell_type": "code",
   "execution_count": null,
   "metadata": {},
   "outputs": [],
   "source": [
    "\"\"\"\n",
    "from config import teams \n",
    "\n",
    "def get_football_events(teams):\n",
    "    all_events_df = pd.DataFrame()\n",
    "\n",
    "    for team in teams:\n",
    "        schedule = sportsipy.fb.Schedule(team)\n",
    "        events_data = []\n",
    "\n",
    "        for game in schedule:\n",
    "            event_data = {\n",
    "                'Date': game.datetime,\n",
    "                'Home_Team': game.home_team,\n",
    "                'Away_Team': game.away_team,\n",
    "                'Goals_Scored': game.goals_scored,\n",
    "                'Goals_Allowed': game.goals_allowed,\n",
    "                'Result': game.result,\n",
    "                'Venue': game.location,\n",
    "            }\n",
    "            events_data.append(event_data)\n",
    "\n",
    "        yearly_events_df = pd.DataFrame(events_data)\n",
    "        all_events_df = pd.concat([all_events_df, yearly_events_df], ignore_index=True)\n",
    "\n",
    "    return all_events_df\n",
    "\n",
    "# Example usage for La Liga events for the specified teams\n",
    "la_liga_schedule = get_football_events(teams)\n",
    "print(la_liga_schedule)\n",
    "\"\"\""
   ]
  },
  {
   "cell_type": "code",
   "execution_count": null,
   "metadata": {},
   "outputs": [],
   "source": [
    "master[\"fecha\"] = pd.to_datetime(master[\"fecha_pedido\"])\n",
    "master[\"pedido_festivo\"] = master[\"fecha\"].isin(festividades[\"fecha\"])\n",
    "master.drop(\"fecha\", axis=1, inplace=True)\n",
    "len(master[master[\"pedido_festivo\"] == False])\n",
    "#len(master[master[\"pedido_festivo\"] == True])"
   ]
  },
  {
   "cell_type": "code",
   "execution_count": null,
   "metadata": {},
   "outputs": [],
   "source": [
    "#Save categorical master \n",
    "master.to_parquet(\"./processed_data/3_categorical_master.parquet\",index=True)\n",
    "#Save traduction tables\n",
    "centro_carga_df.to_parquet(\"./processed_data/3_centros_de_carga.parquet\", index=True)\n",
    "cerveza_df.to_parquet(\"./processed_data/3_cervezas.parquet\", index=True)\n",
    "proveedor_df.to_parquet(\"./processed_data/3_proveedores.parquet\", index=True)\n",
    "subproveedor_df.to_parquet(\"./processed_data/3_subproveedores.parquet\", index=True)\n",
    "cliente_df.to_parquet(\"./processed_data/3_clientes.parquet\", index=True)\n",
    "vehiculo_df.to_parquet(\"./processed_data/3_vehiculos.parquet\", index=True)\n"
   ]
  }
 ],
 "metadata": {
  "kernelspec": {
   "display_name": "base",
   "language": "python",
   "name": "python3"
  },
  "language_info": {
   "codemirror_mode": {
    "name": "ipython",
    "version": 3
   },
   "file_extension": ".py",
   "mimetype": "text/x-python",
   "name": "python",
   "nbconvert_exporter": "python",
   "pygments_lexer": "ipython3",
   "version": "3.8.0"
  },
  "orig_nbformat": 4
 },
 "nbformat": 4,
 "nbformat_minor": 2
}
