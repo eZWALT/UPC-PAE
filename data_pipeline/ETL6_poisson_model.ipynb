{
 "cells": [
  {
   "cell_type": "code",
   "execution_count": null,
   "metadata": {},
   "outputs": [],
   "source": [
    "import pandas as pd\n",
    "import numpy as np\n",
    "from matplotlib import pyplot as plt\n",
    "from tabulate import tabulate\n",
    "from patsy import dmatrices\n",
    "import statsmodels.api as sm\n",
    "from datetime import timedelta"
   ]
  },
  {
   "cell_type": "code",
   "execution_count": null,
   "metadata": {},
   "outputs": [],
   "source": [
    "#ID de bar a predecir\n",
    "ID = 111401\n",
    "#dias extra de predicción\n",
    "dias = 200\n"
   ]
  },
  {
   "cell_type": "code",
   "execution_count": null,
   "metadata": {},
   "outputs": [],
   "source": [
    "master = pd.read_parquet(\"./processed_data/3_categorical_master.parquet\")\n",
    "\n",
    "data = master[['fecha_pedido','litros_pedidos_cliente', 'id_cliente']]\n",
    "\n",
    "\n",
    "data = data.rename(columns={'fecha_pedido':'ds'})\n",
    "data = data.rename(columns={'litros_pedidos_cliente':'y'})\n",
    "data = data.rename(columns={'id_cliente':'unique_id'})\n",
    "data['ds'] = pd.to_datetime(data['ds'])\n",
    "data['y'] = 1\n",
    "\n",
    "start_date = data.ds.min()\n",
    "day_limit = data.ds.max()\n",
    "end_date = data.ds.max() + timedelta(days=dias)\n",
    "\n",
    "# Create a MultiIndex with all combinations of product and date\n",
    "product_range = pd.MultiIndex.from_product([data['unique_id'].unique(), pd.date_range(start=start_date, end=end_date, freq='D')], names=['unique_id', 'ds'])\n",
    "\n",
    "\n",
    "# Merge with the original DataFrame to fill in missing values\n",
    "data = pd.merge(data, pd.DataFrame(index=product_range).reset_index(), on=['unique_id', 'ds'], how='right').fillna(0)\n",
    "\n",
    "#data=data.set_index('ds').reindex(pd.date_range(start=data.ds.min(), end=data.ds.max(),freq='D'),fill_value=0)\n",
    "#data = data.reset_index()\n",
    "#data = data.rename(columns={'index':'ds'})\n",
    "#data\n"
   ]
  },
  {
   "cell_type": "markdown",
   "metadata": {},
   "source": [
    "Indiquem el bar id per el que volem predir"
   ]
  },
  {
   "cell_type": "code",
   "execution_count": null,
   "metadata": {},
   "outputs": [],
   "source": [
    "data = data[data['unique_id'] == ID]\n",
    "data = data.reset_index()\n",
    "last_day = data[data['ds'] == day_limit]\n",
    "last_day = last_day.index[0]"
   ]
  },
  {
   "cell_type": "markdown",
   "metadata": {},
   "source": [
    "Creem les variables externes que afecten a les prediccions (Dia de la setmana, clima...)"
   ]
  },
  {
   "cell_type": "code",
   "execution_count": null,
   "metadata": {},
   "outputs": [],
   "source": [
    "ds = data.ds\n",
    "data['MONTH'] = ds.dt.month\n",
    "data['DAY_OF_WEEK'] = ds.dt.dayofweek\n",
    "data['DAY'] = ds.dt.day\n",
    "\n",
    "data"
   ]
  },
  {
   "cell_type": "markdown",
   "metadata": {},
   "source": [
    "Separem les dades en entrenament vs validació"
   ]
  },
  {
   "cell_type": "code",
   "execution_count": null,
   "metadata": {},
   "outputs": [],
   "source": [
    "mask = np.random.rand(len(data)) < 0.8\n",
    "df_train = data[mask]\n",
    "df_test = data[~mask]\n",
    "df_future = data\n",
    "print('Training data set length='+str(len(df_train)))\n",
    "print('Testing data set length='+str(len(df_test)))"
   ]
  },
  {
   "cell_type": "markdown",
   "metadata": {},
   "source": [
    "Entrenem un regressor de Poisson"
   ]
  },
  {
   "cell_type": "code",
   "execution_count": null,
   "metadata": {},
   "outputs": [],
   "source": [
    "expr = \"\"\"y ~ DAY + DAY_OF_WEEK + MONTH\"\"\"\n",
    "y_train, X_train = dmatrices(expr, df_train, return_type='dataframe')\n",
    "y_test, X_test = dmatrices(expr, df_test, return_type='dataframe')\n"
   ]
  },
  {
   "cell_type": "code",
   "execution_count": null,
   "metadata": {},
   "outputs": [],
   "source": [
    "poisson_training_results = sm.GLM(y_train, X_train, family=sm.families.Poisson()).fit()\n",
    "print(poisson_training_results.summary())"
   ]
  },
  {
   "cell_type": "markdown",
   "metadata": {},
   "source": [
    "Resultats\n"
   ]
  },
  {
   "cell_type": "code",
   "execution_count": null,
   "metadata": {},
   "outputs": [],
   "source": [
    "poisson_predictions = poisson_training_results.get_prediction(X_test)\n",
    "#summary_frame() returns a pandas DataFrame\n",
    "predictions_summary_frame = poisson_predictions.summary_frame()\n",
    "print(predictions_summary_frame)"
   ]
  },
  {
   "cell_type": "markdown",
   "metadata": {},
   "source": [
    "HAY QUE CAMBIAR EL THRESHOLD PARA LO QUE CONSIDERAMOS COMO 1"
   ]
  },
  {
   "cell_type": "code",
   "execution_count": null,
   "metadata": {},
   "outputs": [],
   "source": [
    "predicted_counts=predictions_summary_frame['mean']\n",
    "actual_counts = y_test['y']\n",
    "fig = plt.figure()\n",
    "fig.suptitle('Predicted versus actual data')\n",
    "predicted, = plt.plot(X_test.index, predicted_counts, 'go-', label='Predicted counts')\n",
    "actual, = plt.plot(X_test.index, actual_counts, 'ro-', label='Actual counts')\n",
    "point2, = plt.plot(np.array([i for i in range(0,700)]), np.array([0.19 for i in range(0,700)]))\n",
    "plt.legend(handles=[predicted, actual])\n",
    "plt.show()"
   ]
  },
  {
   "cell_type": "markdown",
   "metadata": {},
   "source": [
    "Aqui está la lista de las siguientes predicciones, no se por que pero parece que los 0's los ignora \n"
   ]
  },
  {
   "cell_type": "code",
   "execution_count": null,
   "metadata": {},
   "outputs": [],
   "source": [
    "future = predicted_counts[predicted_counts.index > last_day]\n",
    "print(future)"
   ]
  },
  {
   "cell_type": "code",
   "execution_count": null,
   "metadata": {},
   "outputs": [],
   "source": [
    "mean = future.sum()/len(future)\n",
    "future = future[future.values >= mean]\n",
    "print(future)"
   ]
  }
 ],
 "metadata": {
  "kernelspec": {
   "display_name": "Python 3",
   "language": "python",
   "name": "python3"
  },
  "language_info": {
   "codemirror_mode": {
    "name": "ipython",
    "version": 3
   },
   "file_extension": ".py",
   "mimetype": "text/x-python",
   "name": "python",
   "nbconvert_exporter": "python",
   "pygments_lexer": "ipython3",
   "version": "3.8.0"
  }
 },
 "nbformat": 4,
 "nbformat_minor": 2
}
