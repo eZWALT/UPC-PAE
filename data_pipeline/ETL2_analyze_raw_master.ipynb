{
 "cells": [
  {
   "cell_type": "code",
   "execution_count": null,
   "metadata": {},
   "outputs": [],
   "source": [
    "import pandas as pd     \n",
    "import numpy as np \n",
    "from tabulate import tabulate"
   ]
  },
  {
   "cell_type": "code",
   "execution_count": null,
   "metadata": {},
   "outputs": [],
   "source": [
    "raw_master = pd.read_parquet(\"./processed_data/1_raw_master.parquet\")\n",
    "print(tabulate(raw_master, headers=\"keys\", tablefmt=\"psql\"))\n"
   ]
  },
  {
   "cell_type": "markdown",
   "metadata": {},
   "source": [
    "# Handling nulls values and analyzing statistics\n",
    "Primerament cercarem per valors nuls en les columnes númeriques i pensarem com substituirlos. Veiem que litros_pedidos_cliente conté nulls que emplenarem amb litros_dados_cliente, per tal de si aquestes són usades pel model, evitar que extregui relacions incorrectes (Es millor una mica de overfitting que no pas que aprengui relacions sense sentit com pasaria si emplenessim amb 0). També falten les temperatures i pression_co2 per alguns valors"
   ]
  },
  {
   "cell_type": "code",
   "execution_count": null,
   "metadata": {},
   "outputs": [],
   "source": [
    "raw_master.describe()"
   ]
  },
  {
   "cell_type": "code",
   "execution_count": null,
   "metadata": {},
   "outputs": [],
   "source": [
    "raw_master.info()"
   ]
  },
  {
   "cell_type": "code",
   "execution_count": null,
   "metadata": {},
   "outputs": [],
   "source": [
    "raw_master[\"litros_pedidos_cliente\"].fillna(raw_master[\"litros_dados_cliente\"], inplace=True)\n",
    "raw_master.describe()"
   ]
  },
  {
   "cell_type": "markdown",
   "metadata": {},
   "source": [
    "Veiem que els valors de mitjana i desviació nous s'ajusten molt als anteriors, lo cual es bo perqué vol dir que les dades no han variat molt. Ara solucionarem la manca de valors de temperatura i prressió imputant-los amb la mitjana aritmètica. També ens fixem que hi han dades sense sentit. Podriem netejarles en el futur per un rang de pressio / temperatura que tingui sentit."
   ]
  },
  {
   "cell_type": "code",
   "execution_count": null,
   "metadata": {},
   "outputs": [],
   "source": [
    "raw_master[\"pression_co2\"].fillna(raw_master[\"pression_co2\"].mean(), inplace=True)\n",
    "raw_master[\"temperatura\"].fillna(raw_master[\"temperatura\"].mean(), inplace=True)\n",
    "raw_master.describe()"
   ]
  },
  {
   "cell_type": "code",
   "execution_count": null,
   "metadata": {},
   "outputs": [],
   "source": [
    "processed1_master = raw_master\n",
    "processed1_master.to_parquet(\"./processed_data/2_non_null_master.parquet\",index=True)\n"
   ]
  }
 ],
 "metadata": {
  "kernelspec": {
   "display_name": "base",
   "language": "python",
   "name": "python3"
  },
  "language_info": {
   "codemirror_mode": {
    "name": "ipython",
    "version": 3
   },
   "file_extension": ".py",
   "mimetype": "text/x-python",
   "name": "python",
   "nbconvert_exporter": "python",
   "pygments_lexer": "ipython3",
   "version": "3.11.4"
  },
  "orig_nbformat": 4
 },
 "nbformat": 4,
 "nbformat_minor": 2
}
