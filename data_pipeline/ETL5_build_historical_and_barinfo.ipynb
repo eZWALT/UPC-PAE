{
 "cells": [
  {
   "cell_type": "code",
   "execution_count": null,
   "metadata": {},
   "outputs": [],
   "source": [
    "import pandas as pd     \n",
    "import numpy as np \n",
    "from tabulate import tabulate\n",
    "import requests\n"
   ]
  },
  {
   "cell_type": "code",
   "execution_count": null,
   "metadata": {},
   "outputs": [],
   "source": [
    "master = pd.read_parquet(\"./processed_data/4_timeserie_master.parquet\")\n",
    "print(tabulate(master, headers=\"keys\", tablefmt=\"psql\"))\n"
   ]
  },
  {
   "cell_type": "code",
   "execution_count": null,
   "metadata": {},
   "outputs": [],
   "source": [
    "master_columns = [\n",
    "    \"id_cliente\",\n",
    "    \"id_cliente_enum\",\n",
    "    \"desc_cliente\",\n",
    "    \"id_cerveza\",\n",
    "    \"litros_dados_cliente\",\n",
    "    \"litros_pedidos_cliente\",\n",
    "    \"fecha_pedido_discreta\",\n",
    "    \"fecha_pedido\",\n",
    "    \"fecha_descarga\",\n",
    "    \"fecha_descarga_discreta\",\n",
    "    \"fecha_caducidad\",\n",
    "    \"fecha_caducidad_discreta\",\n",
    "    \"fecha_ultimo_refill_1_discreta\",\n",
    "    \"fecha_ultimo_refill_2_discreta\",\n",
    "    \"fecha_ultimo_refill_3_discreta\",  \n",
    "]\n",
    "\n",
    "web_columns = [\n",
    "    \"desc_cerveza\",\n",
    "    \"desc_cliente\",\n",
    "    \"id_cliente\",\n",
    "    \"fecha_descarga\",\n",
    "    \"fecha_pedido\",\n",
    "    \"litros_dados_cliente\",\n",
    "    \"litros_pedidos_cliente\",\n",
    "    \"pedido_festivo\"\n",
    "]\n",
    "\n",
    "# Corrected code to subset columns\n",
    "master_data = master[master_columns]\n",
    "web_data = master[web_columns]"
   ]
  },
  {
   "cell_type": "code",
   "execution_count": null,
   "metadata": {},
   "outputs": [],
   "source": [
    "#Store in a json and parquet\n",
    "master_data.to_parquet(\"./processed_data/5_historical_master.parquet\", index=True)"
   ]
  },
  {
   "cell_type": "markdown",
   "metadata": {},
   "source": [
    "## Construir la BAR INFO i guardar el JSON per la WEB\n",
    "\n",
    "Si tinguessim caleres fariem servir la API de google Maps "
   ]
  },
  {
   "cell_type": "code",
   "execution_count": null,
   "metadata": {},
   "outputs": [],
   "source": [
    "\"\"\"\n",
    "def get_google_maps_address(place_name):\n",
    "    url = \"https://maps.googleapis.com/maps/api/place/findplacefromtext/json?input={}\".format(\n",
    "        place_name\n",
    "    )\n",
    "    headers = {\n",
    "        \"Authorization\": \"YOUR_API_KEY\",\n",
    "    }\n",
    "    response = requests.get(url, headers=headers)\n",
    "    response.raise_for_status()\n",
    "    data = response.json()\n",
    "    place = data[\"candidates\"][0]\n",
    "    address = place[\"formatted_address\"]\n",
    "    return address\n",
    "\n",
    "\n",
    "# Example\n",
    "\n",
    "place_name = \"HOTEL REINA SOFIA\"\n",
    "address = get_google_maps_address(place_name)\n",
    "\n",
    "# Real data frame operation to be performed \n",
    "adresses = web_data[[\"desc_cliente\", \"id_cliente\"]].drop_duplicates().apply(lambda row: get_google_maps_adress(row[\"desc_cliente\"]), axis=1)\n",
    "#ciudad remaining, should be somewhere in the string, needs to be parsed using regular expressions probably\n",
    "web_data = pd.merge(adresses[[\"id_cliente\", \"direccion\"]], web_data, on=[\"id_cliente\"])\n",
    "\"\"\"\n"
   ]
  },
  {
   "cell_type": "code",
   "execution_count": null,
   "metadata": {},
   "outputs": [],
   "source": [
    "\n",
    "#Cal reordenar la estructura del dataframe, si agrupem pels bars (4 columnes) i convertim els demes features a llistes \n",
    "web_grouped = web_data.groupby(['id_cliente']).agg({\n",
    "    'fecha_descarga': list,\n",
    "    'fecha_pedido':list,\n",
    "    'pedido_festivo': list,\n",
    "    'litros_dados_cliente': list,\n",
    "    'litros_pedidos_cliente': list,\n",
    "    'desc_cerveza': list,\n",
    "}).reset_index()\n",
    "\n",
    "city_prob = {\n",
    "    \"Barcelona\": 0.5,\n",
    "    \"Hospitalet de Llobregat\": 0.09,\n",
    "    \"Cornella de Llobregat\": 0.05,\n",
    "    \"Badalona\": 0.10,\n",
    "    \"Castelldefels\": 0.03,\n",
    "    \"Sabadell\": 0.01,\n",
    "    \"Sitges\": 0.04,\n",
    "    \"Tarragona\": 0.03,\n",
    "    \"Salou\": 0.03,\n",
    "    \"Girona\": 0.07,\n",
    "    \"Madrid\": 0.03,\n",
    "    \"Sevilla\": 0.02\n",
    "}\n",
    "\n",
    "web_grouped[\"direccion\"] = \"C/ Jordi Girona, 1-3 Edifici Omega, Despatx 002-102, 08034 Barcelona\"\n",
    "web_grouped[\"ciudad\"] = np.random.choice(list(city_prob.keys()), size=len(web_grouped), p=list(city_prob.values()))\n",
    "\n",
    "#Add some example info\n",
    "web_grouped.loc[web_grouped[\"id_cliente\"] == 104530, [\"direccion\", \"ciudad\"]] = [\"Passatge de la Banca, 7, Ciutat Vella, 08002 Barcelona\", \"Barcelona\"]\n",
    "web_grouped.loc[web_grouped[\"id_cliente\"] == 123507, [\"direccion\", \"ciudad\"]] = [\"C/ Nou de la Rambla, 113, Sants-Montjuïc, 08004 Barcelona\", \"Barcelona\"]\n",
    "web_grouped.loc[web_grouped[\"id_cliente\"] == 125901, [\"direccion\", \"ciudad\"]] = [\"C/ dels Almogàvers, 122, Sant Martí, 08018 Barcelona\", \"Barcelona\"]\n",
    "web_grouped.loc[web_grouped[\"id_cliente\"] == 104670, [\"direccion\", \"ciudad\"]] = [\"Pl. de Catalunya, 21, Ciutat Vella, 08002 Barcelona\", \"Barcelona\"]\n",
    "web_grouped.loc[web_grouped[\"id_cliente\"] == 104749, [\"direccion\", \"ciudad\"]] = [\"Pl. Pius XII, 4, Les Corts, 08028 Barcelona, 08002 Barcelona\", \"Barcelona\"]\n",
    "web_grouped.loc[web_grouped[\"id_cliente\"] == 119680, [\"direccion\", \"ciudad\"]] = [\"Via Laietana, 40, Ciutat Vella, 08003 Barcelona\", \"Barcelona\"]\n",
    "web_grouped.loc[web_grouped[\"id_cliente\"] == 104804, [\"direccion\", \"ciudad\"]] = [\"Carrer de Fuerteventura, s/n, 17210 Calella de Palafrugell, Girona\", \"Calella de Palafrugell\"]\n",
    "\n",
    "\n",
    "#Get the client info\n",
    "web_grouped = pd.merge(web_data[[\"id_cliente\", \"desc_cliente\"]].drop_duplicates(), web_grouped, on=[\"id_cliente\"])\n",
    "web_grouped\n"
   ]
  },
  {
   "cell_type": "code",
   "execution_count": null,
   "metadata": {},
   "outputs": [],
   "source": [
    "#Sanity check, size of all grouped features\n",
    "print(len(web_grouped.iloc[0][\"fecha_pedido\"]))\n",
    "print(len(web_grouped.iloc[0][\"desc_cerveza\"]))\n",
    "print(len(web_grouped.iloc[0][\"pedido_festivo\"]))\n",
    "print(len(web_grouped.iloc[0][\"fecha_descarga\"]))\n",
    "print(len(web_grouped.iloc[0][\"litros_dados_cliente\"]))\n",
    "print(len(web_grouped.iloc[0][\"litros_pedidos_cliente\"]))"
   ]
  },
  {
   "cell_type": "code",
   "execution_count": null,
   "metadata": {},
   "outputs": [],
   "source": [
    "\"\"\"\n",
    "submaster = master[[\"id_cliente\", \"desc_cliente\", \"fecha_pedido_discreta\"]].sort_values(by=[\"id_cliente\", \"fecha_pedido_discreta\"])\n",
    "grouped_master = submaster.groupby(\"id_cliente\")\n",
    "arrays_by_id_cliente = submaster.groupby(\"id_cliente\")[\"fecha_pedido_discreta\"].apply(lambda x: x.to_numpy()).to_dict()\n",
    "print(arrays_by_id_cliente[104530])\n",
    "\"\"\""
   ]
  },
  {
   "cell_type": "code",
   "execution_count": null,
   "metadata": {},
   "outputs": [],
   "source": [
    "web_grouped.to_json(\"./processed_data/5_web_ready_data.json\", orient=\"records\", indent=2, date_format=\"iso\")"
   ]
  }
 ],
 "metadata": {
  "kernelspec": {
   "display_name": "base",
   "language": "python",
   "name": "python3"
  },
  "language_info": {
   "codemirror_mode": {
    "name": "ipython",
    "version": 3
   },
   "file_extension": ".py",
   "mimetype": "text/x-python",
   "name": "python",
   "nbconvert_exporter": "python",
   "pygments_lexer": "ipython3",
   "version": "3.8.0"
  },
  "orig_nbformat": 4
 },
 "nbformat": 4,
 "nbformat_minor": 2
}
